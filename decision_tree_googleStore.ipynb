{
 "cells": [
  {
   "cell_type": "markdown",
   "metadata": {},
   "source": [
    "### Assignment-Decision-Trees"
   ]
  },
  {
   "cell_type": "markdown",
   "metadata": {},
   "source": [
    "When the new visitor visits the website, we get the information about source, medium, campaign, deviceCategory, operatingSystem, city, channelGrouping, pageviews, timeOnSite, bounce, etc. Based on these information here build model to predict if the new visitor will transact or not."
   ]
  },
  {
   "cell_type": "markdown",
   "metadata": {},
   "source": [
    "Programming langauge : Python\n",
    "<br>\n",
    "IDE : Jupyter\n",
    "<br>\n",
    "Dataset link : https://storage.googleapis.com/sample_user_behavior_data/sample_user_data.csv\n",
    "<br>\n",
    "dataset explanations : https://www.googlemerchandisestore.com/shop.axd/Home?utm_source=Partners&utm_medium=affiliate&utm_campaign=Data%20Share%20Promo"
   ]
  },
  {
   "cell_type": "code",
   "execution_count": 1,
   "metadata": {},
   "outputs": [
    {
     "name": "stderr",
     "output_type": "stream",
     "text": [
      "C:\\ProgramData\\Anaconda3\\lib\\site-packages\\sklearn\\externals\\six.py:31: FutureWarning: The module is deprecated in version 0.21 and will be removed in version 0.23 since we've dropped support for Python 2.7. Please rely on the official version of six (https://pypi.org/project/six/).\n",
      "  \"(https://pypi.org/project/six/).\", FutureWarning)\n"
     ]
    }
   ],
   "source": [
    "# importing libraries\n",
    "\n",
    "import pandas as pd\n",
    "import numpy as np\n",
    "from datetime import datetime\n",
    "\n",
    "from sklearn.model_selection import train_test_split\n",
    "from sklearn import metrics\n",
    "from sklearn import tree\n",
    "from sklearn import preprocessing\n",
    "from sklearn.preprocessing import LabelEncoder\n",
    "from sklearn.metrics import confusion_matrix\n",
    "from sklearn.tree import DecisionTreeClassifier, export_graphviz\n",
    "from sklearn.tree import export_graphviz\n",
    "from sklearn.externals.six import StringIO\n",
    "\n",
    "import seaborn as sns\n",
    "%matplotlib inline\n",
    "import matplotlib\n",
    "import matplotlib.pyplot as plt\n",
    "\n",
    "import pydotplus\n",
    "from IPython.display import Image"
   ]
  },
  {
   "cell_type": "code",
   "execution_count": 2,
   "metadata": {},
   "outputs": [],
   "source": [
    "data = pd.read_csv(\"sample_user_data.csv\",low_memory=False)"
   ]
  },
  {
   "cell_type": "code",
   "execution_count": 3,
   "metadata": {},
   "outputs": [
    {
     "data": {
      "text/html": [
       "<div>\n",
       "<style scoped>\n",
       "    .dataframe tbody tr th:only-of-type {\n",
       "        vertical-align: middle;\n",
       "    }\n",
       "\n",
       "    .dataframe tbody tr th {\n",
       "        vertical-align: top;\n",
       "    }\n",
       "\n",
       "    .dataframe thead th {\n",
       "        text-align: right;\n",
       "    }\n",
       "</style>\n",
       "<table border=\"1\" class=\"dataframe\">\n",
       "  <thead>\n",
       "    <tr style=\"text-align: right;\">\n",
       "      <th></th>\n",
       "      <th>fullVisitorId</th>\n",
       "      <th>VisitNumber</th>\n",
       "      <th>Date</th>\n",
       "      <th>VisitStartTime</th>\n",
       "      <th>bounces</th>\n",
       "      <th>pageviews</th>\n",
       "      <th>timeOnSite</th>\n",
       "      <th>totalTransactionRevenue</th>\n",
       "      <th>transactions</th>\n",
       "      <th>source</th>\n",
       "      <th>medium</th>\n",
       "      <th>campaign</th>\n",
       "      <th>deviceCategory</th>\n",
       "      <th>operatingSystem</th>\n",
       "      <th>mobileDeviceModel</th>\n",
       "      <th>city</th>\n",
       "      <th>ChannelGrouping</th>\n",
       "    </tr>\n",
       "  </thead>\n",
       "  <tbody>\n",
       "    <tr>\n",
       "      <th>0</th>\n",
       "      <td>4948410136152642444</td>\n",
       "      <td>1</td>\n",
       "      <td>20170528</td>\n",
       "      <td>1496033409</td>\n",
       "      <td>NaN</td>\n",
       "      <td>5.0</td>\n",
       "      <td>951.0</td>\n",
       "      <td>NaN</td>\n",
       "      <td>NaN</td>\n",
       "      <td>(direct)</td>\n",
       "      <td>(none)</td>\n",
       "      <td>(not set)</td>\n",
       "      <td>desktop</td>\n",
       "      <td>Linux</td>\n",
       "      <td>not available in demo dataset</td>\n",
       "      <td>Minato</td>\n",
       "      <td>Direct</td>\n",
       "    </tr>\n",
       "    <tr>\n",
       "      <th>1</th>\n",
       "      <td>2556838449093701419</td>\n",
       "      <td>1</td>\n",
       "      <td>20170528</td>\n",
       "      <td>1495991518</td>\n",
       "      <td>NaN</td>\n",
       "      <td>7.0</td>\n",
       "      <td>1214.0</td>\n",
       "      <td>NaN</td>\n",
       "      <td>NaN</td>\n",
       "      <td>google</td>\n",
       "      <td>organic</td>\n",
       "      <td>(not set)</td>\n",
       "      <td>tablet</td>\n",
       "      <td>iOS</td>\n",
       "      <td>not available in demo dataset</td>\n",
       "      <td>not available in demo dataset</td>\n",
       "      <td>Organic Search</td>\n",
       "    </tr>\n",
       "    <tr>\n",
       "      <th>2</th>\n",
       "      <td>3820120288036087392</td>\n",
       "      <td>1</td>\n",
       "      <td>20170528</td>\n",
       "      <td>1495998052</td>\n",
       "      <td>NaN</td>\n",
       "      <td>21.0</td>\n",
       "      <td>619.0</td>\n",
       "      <td>NaN</td>\n",
       "      <td>NaN</td>\n",
       "      <td>google</td>\n",
       "      <td>organic</td>\n",
       "      <td>(not set)</td>\n",
       "      <td>desktop</td>\n",
       "      <td>Windows</td>\n",
       "      <td>not available in demo dataset</td>\n",
       "      <td>Warsaw</td>\n",
       "      <td>Organic Search</td>\n",
       "    </tr>\n",
       "    <tr>\n",
       "      <th>3</th>\n",
       "      <td>8405342198290114865</td>\n",
       "      <td>1</td>\n",
       "      <td>20170528</td>\n",
       "      <td>1495963334</td>\n",
       "      <td>NaN</td>\n",
       "      <td>4.0</td>\n",
       "      <td>145.0</td>\n",
       "      <td>NaN</td>\n",
       "      <td>NaN</td>\n",
       "      <td>google</td>\n",
       "      <td>organic</td>\n",
       "      <td>(not set)</td>\n",
       "      <td>desktop</td>\n",
       "      <td>Windows</td>\n",
       "      <td>not available in demo dataset</td>\n",
       "      <td>not available in demo dataset</td>\n",
       "      <td>Organic Search</td>\n",
       "    </tr>\n",
       "    <tr>\n",
       "      <th>4</th>\n",
       "      <td>8190050108423833846</td>\n",
       "      <td>1</td>\n",
       "      <td>20170528</td>\n",
       "      <td>1496029263</td>\n",
       "      <td>NaN</td>\n",
       "      <td>8.0</td>\n",
       "      <td>267.0</td>\n",
       "      <td>NaN</td>\n",
       "      <td>NaN</td>\n",
       "      <td>google</td>\n",
       "      <td>organic</td>\n",
       "      <td>(not set)</td>\n",
       "      <td>mobile</td>\n",
       "      <td>Android</td>\n",
       "      <td>not available in demo dataset</td>\n",
       "      <td>not available in demo dataset</td>\n",
       "      <td>Organic Search</td>\n",
       "    </tr>\n",
       "  </tbody>\n",
       "</table>\n",
       "</div>"
      ],
      "text/plain": [
       "         fullVisitorId  VisitNumber      Date  VisitStartTime  bounces  \\\n",
       "0  4948410136152642444            1  20170528      1496033409      NaN   \n",
       "1  2556838449093701419            1  20170528      1495991518      NaN   \n",
       "2  3820120288036087392            1  20170528      1495998052      NaN   \n",
       "3  8405342198290114865            1  20170528      1495963334      NaN   \n",
       "4  8190050108423833846            1  20170528      1496029263      NaN   \n",
       "\n",
       "   pageviews  timeOnSite  totalTransactionRevenue  transactions    source  \\\n",
       "0        5.0       951.0                      NaN           NaN  (direct)   \n",
       "1        7.0      1214.0                      NaN           NaN    google   \n",
       "2       21.0       619.0                      NaN           NaN    google   \n",
       "3        4.0       145.0                      NaN           NaN    google   \n",
       "4        8.0       267.0                      NaN           NaN    google   \n",
       "\n",
       "    medium   campaign deviceCategory operatingSystem  \\\n",
       "0   (none)  (not set)        desktop           Linux   \n",
       "1  organic  (not set)         tablet             iOS   \n",
       "2  organic  (not set)        desktop         Windows   \n",
       "3  organic  (not set)        desktop         Windows   \n",
       "4  organic  (not set)         mobile         Android   \n",
       "\n",
       "               mobileDeviceModel                           city  \\\n",
       "0  not available in demo dataset                         Minato   \n",
       "1  not available in demo dataset  not available in demo dataset   \n",
       "2  not available in demo dataset                         Warsaw   \n",
       "3  not available in demo dataset  not available in demo dataset   \n",
       "4  not available in demo dataset  not available in demo dataset   \n",
       "\n",
       "  ChannelGrouping  \n",
       "0          Direct  \n",
       "1  Organic Search  \n",
       "2  Organic Search  \n",
       "3  Organic Search  \n",
       "4  Organic Search  "
      ]
     },
     "execution_count": 3,
     "metadata": {},
     "output_type": "execute_result"
    }
   ],
   "source": [
    "data.head(5)"
   ]
  },
  {
   "cell_type": "code",
   "execution_count": 4,
   "metadata": {},
   "outputs": [
    {
     "data": {
      "text/html": [
       "<div>\n",
       "<style scoped>\n",
       "    .dataframe tbody tr th:only-of-type {\n",
       "        vertical-align: middle;\n",
       "    }\n",
       "\n",
       "    .dataframe tbody tr th {\n",
       "        vertical-align: top;\n",
       "    }\n",
       "\n",
       "    .dataframe thead th {\n",
       "        text-align: right;\n",
       "    }\n",
       "</style>\n",
       "<table border=\"1\" class=\"dataframe\">\n",
       "  <thead>\n",
       "    <tr style=\"text-align: right;\">\n",
       "      <th></th>\n",
       "      <th>VisitNumber</th>\n",
       "      <th>Date</th>\n",
       "      <th>VisitStartTime</th>\n",
       "      <th>bounces</th>\n",
       "      <th>pageviews</th>\n",
       "      <th>timeOnSite</th>\n",
       "      <th>totalTransactionRevenue</th>\n",
       "      <th>transactions</th>\n",
       "    </tr>\n",
       "  </thead>\n",
       "  <tbody>\n",
       "    <tr>\n",
       "      <th>count</th>\n",
       "      <td>900544.000000</td>\n",
       "      <td>9.005440e+05</td>\n",
       "      <td>9.005440e+05</td>\n",
       "      <td>449146.0</td>\n",
       "      <td>900443.000000</td>\n",
       "      <td>450276.000000</td>\n",
       "      <td>1.143800e+04</td>\n",
       "      <td>11475.000000</td>\n",
       "    </tr>\n",
       "    <tr>\n",
       "      <th>mean</th>\n",
       "      <td>2.263943</td>\n",
       "      <td>2.016587e+07</td>\n",
       "      <td>1.484955e+09</td>\n",
       "      <td>1.0</td>\n",
       "      <td>3.846293</td>\n",
       "      <td>262.238061</td>\n",
       "      <td>1.544542e+08</td>\n",
       "      <td>1.048889</td>\n",
       "    </tr>\n",
       "    <tr>\n",
       "      <th>std</th>\n",
       "      <td>9.276698</td>\n",
       "      <td>4.697143e+03</td>\n",
       "      <td>9.127926e+06</td>\n",
       "      <td>0.0</td>\n",
       "      <td>7.018797</td>\n",
       "      <td>484.852324</td>\n",
       "      <td>7.222123e+08</td>\n",
       "      <td>0.456737</td>\n",
       "    </tr>\n",
       "    <tr>\n",
       "      <th>min</th>\n",
       "      <td>1.000000</td>\n",
       "      <td>2.016080e+07</td>\n",
       "      <td>1.491000e+03</td>\n",
       "      <td>1.0</td>\n",
       "      <td>1.000000</td>\n",
       "      <td>1.000000</td>\n",
       "      <td>1.200000e+06</td>\n",
       "      <td>1.000000</td>\n",
       "    </tr>\n",
       "    <tr>\n",
       "      <th>25%</th>\n",
       "      <td>1.000000</td>\n",
       "      <td>2.016103e+07</td>\n",
       "      <td>1.477544e+09</td>\n",
       "      <td>1.0</td>\n",
       "      <td>1.000000</td>\n",
       "      <td>32.000000</td>\n",
       "      <td>2.998250e+07</td>\n",
       "      <td>1.000000</td>\n",
       "    </tr>\n",
       "    <tr>\n",
       "      <th>50%</th>\n",
       "      <td>1.000000</td>\n",
       "      <td>2.017011e+07</td>\n",
       "      <td>1.483868e+09</td>\n",
       "      <td>1.0</td>\n",
       "      <td>1.000000</td>\n",
       "      <td>83.000000</td>\n",
       "      <td>5.577500e+07</td>\n",
       "      <td>1.000000</td>\n",
       "    </tr>\n",
       "    <tr>\n",
       "      <th>75%</th>\n",
       "      <td>1.000000</td>\n",
       "      <td>2.017042e+07</td>\n",
       "      <td>1.492697e+09</td>\n",
       "      <td>1.0</td>\n",
       "      <td>4.000000</td>\n",
       "      <td>258.000000</td>\n",
       "      <td>1.164875e+08</td>\n",
       "      <td>1.000000</td>\n",
       "    </tr>\n",
       "    <tr>\n",
       "      <th>max</th>\n",
       "      <td>395.000000</td>\n",
       "      <td>2.017073e+07</td>\n",
       "      <td>1.501571e+09</td>\n",
       "      <td>1.0</td>\n",
       "      <td>469.000000</td>\n",
       "      <td>19017.000000</td>\n",
       "      <td>4.708206e+10</td>\n",
       "      <td>25.000000</td>\n",
       "    </tr>\n",
       "  </tbody>\n",
       "</table>\n",
       "</div>"
      ],
      "text/plain": [
       "         VisitNumber          Date  VisitStartTime   bounces      pageviews  \\\n",
       "count  900544.000000  9.005440e+05    9.005440e+05  449146.0  900443.000000   \n",
       "mean        2.263943  2.016587e+07    1.484955e+09       1.0       3.846293   \n",
       "std         9.276698  4.697143e+03    9.127926e+06       0.0       7.018797   \n",
       "min         1.000000  2.016080e+07    1.491000e+03       1.0       1.000000   \n",
       "25%         1.000000  2.016103e+07    1.477544e+09       1.0       1.000000   \n",
       "50%         1.000000  2.017011e+07    1.483868e+09       1.0       1.000000   \n",
       "75%         1.000000  2.017042e+07    1.492697e+09       1.0       4.000000   \n",
       "max       395.000000  2.017073e+07    1.501571e+09       1.0     469.000000   \n",
       "\n",
       "          timeOnSite  totalTransactionRevenue  transactions  \n",
       "count  450276.000000             1.143800e+04  11475.000000  \n",
       "mean      262.238061             1.544542e+08      1.048889  \n",
       "std       484.852324             7.222123e+08      0.456737  \n",
       "min         1.000000             1.200000e+06      1.000000  \n",
       "25%        32.000000             2.998250e+07      1.000000  \n",
       "50%        83.000000             5.577500e+07      1.000000  \n",
       "75%       258.000000             1.164875e+08      1.000000  \n",
       "max     19017.000000             4.708206e+10     25.000000  "
      ]
     },
     "execution_count": 4,
     "metadata": {},
     "output_type": "execute_result"
    }
   ],
   "source": [
    "data.describe()"
   ]
  },
  {
   "cell_type": "code",
   "execution_count": 5,
   "metadata": {},
   "outputs": [
    {
     "data": {
      "text/html": [
       "<div>\n",
       "<style scoped>\n",
       "    .dataframe tbody tr th:only-of-type {\n",
       "        vertical-align: middle;\n",
       "    }\n",
       "\n",
       "    .dataframe tbody tr th {\n",
       "        vertical-align: top;\n",
       "    }\n",
       "\n",
       "    .dataframe thead th {\n",
       "        text-align: right;\n",
       "    }\n",
       "</style>\n",
       "<table border=\"1\" class=\"dataframe\">\n",
       "  <thead>\n",
       "    <tr style=\"text-align: right;\">\n",
       "      <th></th>\n",
       "      <th>fullVisitorId</th>\n",
       "      <th>source</th>\n",
       "      <th>medium</th>\n",
       "      <th>campaign</th>\n",
       "      <th>deviceCategory</th>\n",
       "      <th>operatingSystem</th>\n",
       "      <th>mobileDeviceModel</th>\n",
       "      <th>city</th>\n",
       "      <th>ChannelGrouping</th>\n",
       "    </tr>\n",
       "  </thead>\n",
       "  <tbody>\n",
       "    <tr>\n",
       "      <th>count</th>\n",
       "      <td>900544</td>\n",
       "      <td>900543</td>\n",
       "      <td>900543</td>\n",
       "      <td>900543</td>\n",
       "      <td>900543</td>\n",
       "      <td>900543</td>\n",
       "      <td>900543</td>\n",
       "      <td>900543</td>\n",
       "      <td>900543</td>\n",
       "    </tr>\n",
       "    <tr>\n",
       "      <th>unique</th>\n",
       "      <td>711874</td>\n",
       "      <td>275</td>\n",
       "      <td>7</td>\n",
       "      <td>8</td>\n",
       "      <td>3</td>\n",
       "      <td>20</td>\n",
       "      <td>1</td>\n",
       "      <td>649</td>\n",
       "      <td>8</td>\n",
       "    </tr>\n",
       "    <tr>\n",
       "      <th>top</th>\n",
       "      <td>1957458976293878100</td>\n",
       "      <td>(direct)</td>\n",
       "      <td>(none)</td>\n",
       "      <td>(not set)</td>\n",
       "      <td>desktop</td>\n",
       "      <td>Windows</td>\n",
       "      <td>not available in demo dataset</td>\n",
       "      <td>not available in demo dataset</td>\n",
       "      <td>Organic Search</td>\n",
       "    </tr>\n",
       "    <tr>\n",
       "      <th>freq</th>\n",
       "      <td>276</td>\n",
       "      <td>369236</td>\n",
       "      <td>369234</td>\n",
       "      <td>872549</td>\n",
       "      <td>662342</td>\n",
       "      <td>348975</td>\n",
       "      <td>900543</td>\n",
       "      <td>506468</td>\n",
       "      <td>380110</td>\n",
       "    </tr>\n",
       "  </tbody>\n",
       "</table>\n",
       "</div>"
      ],
      "text/plain": [
       "              fullVisitorId    source  medium   campaign deviceCategory  \\\n",
       "count                900544    900543  900543     900543         900543   \n",
       "unique               711874       275       7          8              3   \n",
       "top     1957458976293878100  (direct)  (none)  (not set)        desktop   \n",
       "freq                    276    369236  369234     872549         662342   \n",
       "\n",
       "       operatingSystem              mobileDeviceModel  \\\n",
       "count           900543                         900543   \n",
       "unique              20                              1   \n",
       "top            Windows  not available in demo dataset   \n",
       "freq            348975                         900543   \n",
       "\n",
       "                                 city ChannelGrouping  \n",
       "count                          900543          900543  \n",
       "unique                            649               8  \n",
       "top     not available in demo dataset  Organic Search  \n",
       "freq                           506468          380110  "
      ]
     },
     "execution_count": 5,
     "metadata": {},
     "output_type": "execute_result"
    }
   ],
   "source": [
    "data.describe(include=['O'])"
   ]
  },
  {
   "cell_type": "code",
   "execution_count": 6,
   "metadata": {},
   "outputs": [],
   "source": [
    "data['VisitStartTime'] = pd.to_datetime(data['VisitStartTime'],unit='s')"
   ]
  },
  {
   "cell_type": "code",
   "execution_count": 7,
   "metadata": {},
   "outputs": [
    {
     "data": {
      "text/html": [
       "<div>\n",
       "<style scoped>\n",
       "    .dataframe tbody tr th:only-of-type {\n",
       "        vertical-align: middle;\n",
       "    }\n",
       "\n",
       "    .dataframe tbody tr th {\n",
       "        vertical-align: top;\n",
       "    }\n",
       "\n",
       "    .dataframe thead th {\n",
       "        text-align: right;\n",
       "    }\n",
       "</style>\n",
       "<table border=\"1\" class=\"dataframe\">\n",
       "  <thead>\n",
       "    <tr style=\"text-align: right;\">\n",
       "      <th></th>\n",
       "      <th>fullVisitorId</th>\n",
       "      <th>VisitNumber</th>\n",
       "      <th>Date</th>\n",
       "      <th>VisitStartTime</th>\n",
       "      <th>bounces</th>\n",
       "      <th>pageviews</th>\n",
       "      <th>timeOnSite</th>\n",
       "      <th>totalTransactionRevenue</th>\n",
       "      <th>transactions</th>\n",
       "      <th>source</th>\n",
       "      <th>medium</th>\n",
       "      <th>campaign</th>\n",
       "      <th>deviceCategory</th>\n",
       "      <th>operatingSystem</th>\n",
       "      <th>mobileDeviceModel</th>\n",
       "      <th>city</th>\n",
       "      <th>ChannelGrouping</th>\n",
       "    </tr>\n",
       "  </thead>\n",
       "  <tbody>\n",
       "    <tr>\n",
       "      <th>0</th>\n",
       "      <td>4948410136152642444</td>\n",
       "      <td>1</td>\n",
       "      <td>20170528</td>\n",
       "      <td>2017-05-29 04:50:09</td>\n",
       "      <td>NaN</td>\n",
       "      <td>5.0</td>\n",
       "      <td>951.0</td>\n",
       "      <td>NaN</td>\n",
       "      <td>NaN</td>\n",
       "      <td>(direct)</td>\n",
       "      <td>(none)</td>\n",
       "      <td>(not set)</td>\n",
       "      <td>desktop</td>\n",
       "      <td>Linux</td>\n",
       "      <td>not available in demo dataset</td>\n",
       "      <td>Minato</td>\n",
       "      <td>Direct</td>\n",
       "    </tr>\n",
       "    <tr>\n",
       "      <th>1</th>\n",
       "      <td>2556838449093701419</td>\n",
       "      <td>1</td>\n",
       "      <td>20170528</td>\n",
       "      <td>2017-05-28 17:11:58</td>\n",
       "      <td>NaN</td>\n",
       "      <td>7.0</td>\n",
       "      <td>1214.0</td>\n",
       "      <td>NaN</td>\n",
       "      <td>NaN</td>\n",
       "      <td>google</td>\n",
       "      <td>organic</td>\n",
       "      <td>(not set)</td>\n",
       "      <td>tablet</td>\n",
       "      <td>iOS</td>\n",
       "      <td>not available in demo dataset</td>\n",
       "      <td>not available in demo dataset</td>\n",
       "      <td>Organic Search</td>\n",
       "    </tr>\n",
       "    <tr>\n",
       "      <th>2</th>\n",
       "      <td>3820120288036087392</td>\n",
       "      <td>1</td>\n",
       "      <td>20170528</td>\n",
       "      <td>2017-05-28 19:00:52</td>\n",
       "      <td>NaN</td>\n",
       "      <td>21.0</td>\n",
       "      <td>619.0</td>\n",
       "      <td>NaN</td>\n",
       "      <td>NaN</td>\n",
       "      <td>google</td>\n",
       "      <td>organic</td>\n",
       "      <td>(not set)</td>\n",
       "      <td>desktop</td>\n",
       "      <td>Windows</td>\n",
       "      <td>not available in demo dataset</td>\n",
       "      <td>Warsaw</td>\n",
       "      <td>Organic Search</td>\n",
       "    </tr>\n",
       "    <tr>\n",
       "      <th>3</th>\n",
       "      <td>8405342198290114865</td>\n",
       "      <td>1</td>\n",
       "      <td>20170528</td>\n",
       "      <td>2017-05-28 09:22:14</td>\n",
       "      <td>NaN</td>\n",
       "      <td>4.0</td>\n",
       "      <td>145.0</td>\n",
       "      <td>NaN</td>\n",
       "      <td>NaN</td>\n",
       "      <td>google</td>\n",
       "      <td>organic</td>\n",
       "      <td>(not set)</td>\n",
       "      <td>desktop</td>\n",
       "      <td>Windows</td>\n",
       "      <td>not available in demo dataset</td>\n",
       "      <td>not available in demo dataset</td>\n",
       "      <td>Organic Search</td>\n",
       "    </tr>\n",
       "    <tr>\n",
       "      <th>4</th>\n",
       "      <td>8190050108423833846</td>\n",
       "      <td>1</td>\n",
       "      <td>20170528</td>\n",
       "      <td>2017-05-29 03:41:03</td>\n",
       "      <td>NaN</td>\n",
       "      <td>8.0</td>\n",
       "      <td>267.0</td>\n",
       "      <td>NaN</td>\n",
       "      <td>NaN</td>\n",
       "      <td>google</td>\n",
       "      <td>organic</td>\n",
       "      <td>(not set)</td>\n",
       "      <td>mobile</td>\n",
       "      <td>Android</td>\n",
       "      <td>not available in demo dataset</td>\n",
       "      <td>not available in demo dataset</td>\n",
       "      <td>Organic Search</td>\n",
       "    </tr>\n",
       "  </tbody>\n",
       "</table>\n",
       "</div>"
      ],
      "text/plain": [
       "         fullVisitorId  VisitNumber      Date      VisitStartTime  bounces  \\\n",
       "0  4948410136152642444            1  20170528 2017-05-29 04:50:09      NaN   \n",
       "1  2556838449093701419            1  20170528 2017-05-28 17:11:58      NaN   \n",
       "2  3820120288036087392            1  20170528 2017-05-28 19:00:52      NaN   \n",
       "3  8405342198290114865            1  20170528 2017-05-28 09:22:14      NaN   \n",
       "4  8190050108423833846            1  20170528 2017-05-29 03:41:03      NaN   \n",
       "\n",
       "   pageviews  timeOnSite  totalTransactionRevenue  transactions    source  \\\n",
       "0        5.0       951.0                      NaN           NaN  (direct)   \n",
       "1        7.0      1214.0                      NaN           NaN    google   \n",
       "2       21.0       619.0                      NaN           NaN    google   \n",
       "3        4.0       145.0                      NaN           NaN    google   \n",
       "4        8.0       267.0                      NaN           NaN    google   \n",
       "\n",
       "    medium   campaign deviceCategory operatingSystem  \\\n",
       "0   (none)  (not set)        desktop           Linux   \n",
       "1  organic  (not set)         tablet             iOS   \n",
       "2  organic  (not set)        desktop         Windows   \n",
       "3  organic  (not set)        desktop         Windows   \n",
       "4  organic  (not set)         mobile         Android   \n",
       "\n",
       "               mobileDeviceModel                           city  \\\n",
       "0  not available in demo dataset                         Minato   \n",
       "1  not available in demo dataset  not available in demo dataset   \n",
       "2  not available in demo dataset                         Warsaw   \n",
       "3  not available in demo dataset  not available in demo dataset   \n",
       "4  not available in demo dataset  not available in demo dataset   \n",
       "\n",
       "  ChannelGrouping  \n",
       "0          Direct  \n",
       "1  Organic Search  \n",
       "2  Organic Search  \n",
       "3  Organic Search  \n",
       "4  Organic Search  "
      ]
     },
     "execution_count": 7,
     "metadata": {},
     "output_type": "execute_result"
    }
   ],
   "source": [
    "data.head()"
   ]
  },
  {
   "cell_type": "code",
   "execution_count": 8,
   "metadata": {},
   "outputs": [],
   "source": [
    "# extracting year, month, day, hour, minute from date\n",
    "data['year'] = data['VisitStartTime'].dt.year\n",
    "data['month'] = data['VisitStartTime'].dt.month\n",
    "data['day'] = data['VisitStartTime'].dt.day\n",
    "data['hour'] = data['VisitStartTime'].dt.hour\n",
    "data['minute'] = data['VisitStartTime'].dt.minute"
   ]
  },
  {
   "cell_type": "code",
   "execution_count": 9,
   "metadata": {},
   "outputs": [],
   "source": [
    "# if transactions = NaN,there will be no transaction; else transaction is made, so we replace NaN with 0\n",
    "data['transactions'].replace(0, np.nan, inplace=True)"
   ]
  },
  {
   "cell_type": "code",
   "execution_count": 10,
   "metadata": {},
   "outputs": [],
   "source": [
    "# if bounces = 1, then no transaction; else a transaction is made, so we replace NaN with 0\n",
    "data['bounces'].fillna(0, inplace=True)\n",
    "\n",
    "# if pageviews = NaN, there will be no transaction; else transaction is made, so we replace NaN with 0\n",
    "data['pageviews'].fillna(0, inplace=True)\n",
    "\n",
    "# if timeOnSite = NaN,there will be no transaction; else transaction is made, so we replace NaN with 0\n",
    "data['timeOnSite'].fillna(0, inplace=True)\n",
    "\n",
    "# if transactions = any value ,there will be transaction; write as 1\n",
    "data['transactions'] = (data['transactions'].notnull()).astype('int')\n"
   ]
  },
  {
   "cell_type": "code",
   "execution_count": 11,
   "metadata": {},
   "outputs": [
    {
     "data": {
      "text/plain": [
       "array([0, 1])"
      ]
     },
     "execution_count": 11,
     "metadata": {},
     "output_type": "execute_result"
    }
   ],
   "source": [
    "data['transactions'].unique()"
   ]
  },
  {
   "cell_type": "code",
   "execution_count": 12,
   "metadata": {},
   "outputs": [
    {
     "data": {
      "text/plain": [
       "Index(['fullVisitorId', 'VisitNumber', 'Date', 'VisitStartTime', 'bounces',\n",
       "       'pageviews', 'timeOnSite', 'totalTransactionRevenue', 'transactions',\n",
       "       'source', 'medium', 'campaign', 'deviceCategory', 'operatingSystem',\n",
       "       'mobileDeviceModel', 'city', 'ChannelGrouping', 'year', 'month', 'day',\n",
       "       'hour', 'minute'],\n",
       "      dtype='object')"
      ]
     },
     "execution_count": 12,
     "metadata": {},
     "output_type": "execute_result"
    }
   ],
   "source": [
    "data.columns"
   ]
  },
  {
   "cell_type": "code",
   "execution_count": 13,
   "metadata": {},
   "outputs": [],
   "source": [
    "# visitorid, date and device model are not required\n",
    "data = data.drop(['fullVisitorId', 'Date', 'mobileDeviceModel'], axis=1)"
   ]
  },
  {
   "cell_type": "code",
   "execution_count": 15,
   "metadata": {},
   "outputs": [
    {
     "data": {
      "text/plain": [
       "(900544, 19)"
      ]
     },
     "execution_count": 15,
     "metadata": {},
     "output_type": "execute_result"
    }
   ],
   "source": [
    "data.shape"
   ]
  },
  {
   "cell_type": "code",
   "execution_count": 16,
   "metadata": {},
   "outputs": [
    {
     "data": {
      "text/plain": [
       "not available in demo dataset    506468\n",
       "Mountain View                     40702\n",
       "(not set)                         34182\n",
       "New York                          26245\n",
       "San Francisco                     20255\n",
       "                                  ...  \n",
       "Douglasville                          5\n",
       "Deep River                            5\n",
       "Daly City                             4\n",
       "Bozeman                               3\n",
       "Boise                                 3\n",
       "Name: city, Length: 649, dtype: int64"
      ]
     },
     "execution_count": 16,
     "metadata": {},
     "output_type": "execute_result"
    }
   ],
   "source": [
    "data['city'].value_counts()"
   ]
  },
  {
   "cell_type": "code",
   "execution_count": 17,
   "metadata": {},
   "outputs": [],
   "source": [
    "# replacing \"not available in demo dataset\" and \"(not set)\" by \"Unavailable\"\n",
    "data['city'].replace('not available in demo dataset', 'Unavailable', inplace=True)\n",
    "data['city'].replace('(not set)', 'Unavailable', inplace=True)"
   ]
  },
  {
   "cell_type": "markdown",
   "metadata": {},
   "source": [
    "The columns 'totals_totalTransactionRevenue' and 'totals_transactions' are dependent on each other. If 'totals_transactions' is NULL, then 'totals_totalTransactionRevenue' should have NULL as well, and vice-versa"
   ]
  },
  {
   "cell_type": "code",
   "execution_count": 18,
   "metadata": {},
   "outputs": [
    {
     "name": "stdout",
     "output_type": "stream",
     "text": [
      "Wall time: 10.1 s\n"
     ]
    }
   ],
   "source": [
    "%%time\n",
    "\n",
    "# Transaction_Amt and Transactions_Total \n",
    "for i in range(0, len(data), 1):\n",
    "    if (pd.isna(data.iloc[i, 7])) and (pd.notna(data.iloc[i, 8])):\n",
    "        print('ERROR: totals_totalTransactionRevenue missing when totals_transactions not null at row ', i)\n",
    "\n",
    "    if (pd.isna(data.iloc[i, 8])) and (pd.notna(data.iloc[i, 7])):\n",
    "        print('ERROR: totals_transactions missing when totals_totalTransactionRevenue is not null at row ', i)"
   ]
  },
  {
   "cell_type": "code",
   "execution_count": 19,
   "metadata": {},
   "outputs": [],
   "source": [
    "# no mismatched rows from the above cell, hence replace NaN with 0\n",
    "data['totalTransactionRevenue'].fillna(0,inplace=True)\n",
    "data['transactions'].fillna(0,inplace=True)"
   ]
  },
  {
   "cell_type": "code",
   "execution_count": 20,
   "metadata": {},
   "outputs": [
    {
     "data": {
      "text/html": [
       "<div>\n",
       "<style scoped>\n",
       "    .dataframe tbody tr th:only-of-type {\n",
       "        vertical-align: middle;\n",
       "    }\n",
       "\n",
       "    .dataframe tbody tr th {\n",
       "        vertical-align: top;\n",
       "    }\n",
       "\n",
       "    .dataframe thead th {\n",
       "        text-align: right;\n",
       "    }\n",
       "</style>\n",
       "<table border=\"1\" class=\"dataframe\">\n",
       "  <thead>\n",
       "    <tr style=\"text-align: right;\">\n",
       "      <th></th>\n",
       "      <th>VisitNumber</th>\n",
       "      <th>VisitStartTime</th>\n",
       "      <th>bounces</th>\n",
       "      <th>pageviews</th>\n",
       "      <th>timeOnSite</th>\n",
       "      <th>totalTransactionRevenue</th>\n",
       "      <th>transactions</th>\n",
       "      <th>source</th>\n",
       "      <th>medium</th>\n",
       "      <th>campaign</th>\n",
       "      <th>deviceCategory</th>\n",
       "      <th>operatingSystem</th>\n",
       "      <th>city</th>\n",
       "      <th>ChannelGrouping</th>\n",
       "      <th>year</th>\n",
       "      <th>month</th>\n",
       "      <th>day</th>\n",
       "      <th>hour</th>\n",
       "      <th>minute</th>\n",
       "    </tr>\n",
       "  </thead>\n",
       "  <tbody>\n",
       "    <tr>\n",
       "      <th>0</th>\n",
       "      <td>1</td>\n",
       "      <td>2017-05-29 04:50:09</td>\n",
       "      <td>0.0</td>\n",
       "      <td>5.0</td>\n",
       "      <td>951.0</td>\n",
       "      <td>0.0</td>\n",
       "      <td>0</td>\n",
       "      <td>(direct)</td>\n",
       "      <td>(none)</td>\n",
       "      <td>(not set)</td>\n",
       "      <td>desktop</td>\n",
       "      <td>Linux</td>\n",
       "      <td>Minato</td>\n",
       "      <td>Direct</td>\n",
       "      <td>2017</td>\n",
       "      <td>5</td>\n",
       "      <td>29</td>\n",
       "      <td>4</td>\n",
       "      <td>50</td>\n",
       "    </tr>\n",
       "    <tr>\n",
       "      <th>1</th>\n",
       "      <td>1</td>\n",
       "      <td>2017-05-28 17:11:58</td>\n",
       "      <td>0.0</td>\n",
       "      <td>7.0</td>\n",
       "      <td>1214.0</td>\n",
       "      <td>0.0</td>\n",
       "      <td>0</td>\n",
       "      <td>google</td>\n",
       "      <td>organic</td>\n",
       "      <td>(not set)</td>\n",
       "      <td>tablet</td>\n",
       "      <td>iOS</td>\n",
       "      <td>Unavailable</td>\n",
       "      <td>Organic Search</td>\n",
       "      <td>2017</td>\n",
       "      <td>5</td>\n",
       "      <td>28</td>\n",
       "      <td>17</td>\n",
       "      <td>11</td>\n",
       "    </tr>\n",
       "    <tr>\n",
       "      <th>2</th>\n",
       "      <td>1</td>\n",
       "      <td>2017-05-28 19:00:52</td>\n",
       "      <td>0.0</td>\n",
       "      <td>21.0</td>\n",
       "      <td>619.0</td>\n",
       "      <td>0.0</td>\n",
       "      <td>0</td>\n",
       "      <td>google</td>\n",
       "      <td>organic</td>\n",
       "      <td>(not set)</td>\n",
       "      <td>desktop</td>\n",
       "      <td>Windows</td>\n",
       "      <td>Warsaw</td>\n",
       "      <td>Organic Search</td>\n",
       "      <td>2017</td>\n",
       "      <td>5</td>\n",
       "      <td>28</td>\n",
       "      <td>19</td>\n",
       "      <td>0</td>\n",
       "    </tr>\n",
       "    <tr>\n",
       "      <th>3</th>\n",
       "      <td>1</td>\n",
       "      <td>2017-05-28 09:22:14</td>\n",
       "      <td>0.0</td>\n",
       "      <td>4.0</td>\n",
       "      <td>145.0</td>\n",
       "      <td>0.0</td>\n",
       "      <td>0</td>\n",
       "      <td>google</td>\n",
       "      <td>organic</td>\n",
       "      <td>(not set)</td>\n",
       "      <td>desktop</td>\n",
       "      <td>Windows</td>\n",
       "      <td>Unavailable</td>\n",
       "      <td>Organic Search</td>\n",
       "      <td>2017</td>\n",
       "      <td>5</td>\n",
       "      <td>28</td>\n",
       "      <td>9</td>\n",
       "      <td>22</td>\n",
       "    </tr>\n",
       "    <tr>\n",
       "      <th>4</th>\n",
       "      <td>1</td>\n",
       "      <td>2017-05-29 03:41:03</td>\n",
       "      <td>0.0</td>\n",
       "      <td>8.0</td>\n",
       "      <td>267.0</td>\n",
       "      <td>0.0</td>\n",
       "      <td>0</td>\n",
       "      <td>google</td>\n",
       "      <td>organic</td>\n",
       "      <td>(not set)</td>\n",
       "      <td>mobile</td>\n",
       "      <td>Android</td>\n",
       "      <td>Unavailable</td>\n",
       "      <td>Organic Search</td>\n",
       "      <td>2017</td>\n",
       "      <td>5</td>\n",
       "      <td>29</td>\n",
       "      <td>3</td>\n",
       "      <td>41</td>\n",
       "    </tr>\n",
       "  </tbody>\n",
       "</table>\n",
       "</div>"
      ],
      "text/plain": [
       "   VisitNumber      VisitStartTime  bounces  pageviews  timeOnSite  \\\n",
       "0            1 2017-05-29 04:50:09      0.0        5.0       951.0   \n",
       "1            1 2017-05-28 17:11:58      0.0        7.0      1214.0   \n",
       "2            1 2017-05-28 19:00:52      0.0       21.0       619.0   \n",
       "3            1 2017-05-28 09:22:14      0.0        4.0       145.0   \n",
       "4            1 2017-05-29 03:41:03      0.0        8.0       267.0   \n",
       "\n",
       "   totalTransactionRevenue  transactions    source   medium   campaign  \\\n",
       "0                      0.0             0  (direct)   (none)  (not set)   \n",
       "1                      0.0             0    google  organic  (not set)   \n",
       "2                      0.0             0    google  organic  (not set)   \n",
       "3                      0.0             0    google  organic  (not set)   \n",
       "4                      0.0             0    google  organic  (not set)   \n",
       "\n",
       "  deviceCategory operatingSystem         city ChannelGrouping  year  month  \\\n",
       "0        desktop           Linux       Minato          Direct  2017      5   \n",
       "1         tablet             iOS  Unavailable  Organic Search  2017      5   \n",
       "2        desktop         Windows       Warsaw  Organic Search  2017      5   \n",
       "3        desktop         Windows  Unavailable  Organic Search  2017      5   \n",
       "4         mobile         Android  Unavailable  Organic Search  2017      5   \n",
       "\n",
       "   day  hour  minute  \n",
       "0   29     4      50  \n",
       "1   28    17      11  \n",
       "2   28    19       0  \n",
       "3   28     9      22  \n",
       "4   29     3      41  "
      ]
     },
     "execution_count": 20,
     "metadata": {},
     "output_type": "execute_result"
    }
   ],
   "source": [
    "data.head()"
   ]
  },
  {
   "cell_type": "markdown",
   "metadata": {},
   "source": [
    "#### HeatMap : find the correlation between each variable and find out the mostaly and related variables."
   ]
  },
  {
   "cell_type": "code",
   "execution_count": 21,
   "metadata": {},
   "outputs": [
    {
     "data": {
      "image/png": "[encoded data removed]",
      "text/plain": [
       "<Figure size 720x720 with 2 Axes>"
      ]
     },
     "metadata": {
      "needs_background": "light"
     },
     "output_type": "display_data"
    }
   ],
   "source": [
    "fig1 = plt.figure(figsize = (10,10));\n",
    "plt.title('Correlation Matrix')\n",
    "data.corr()\n",
    "sns.heatmap(data.corr(), vmin = -1, vmax = 1, cmap = 'YlGnBu', annot=True);"
   ]
  },
  {
   "cell_type": "code",
   "execution_count": 22,
   "metadata": {},
   "outputs": [
    {
     "name": "stdout",
     "output_type": "stream",
     "text": [
      "<class 'pandas.core.frame.DataFrame'>\n",
      "RangeIndex: 900544 entries, 0 to 900543\n",
      "Data columns (total 19 columns):\n",
      " #   Column                   Non-Null Count   Dtype         \n",
      "---  ------                   --------------   -----         \n",
      " 0   VisitNumber              900544 non-null  int64         \n",
      " 1   VisitStartTime           900544 non-null  datetime64[ns]\n",
      " 2   bounces                  900544 non-null  float64       \n",
      " 3   pageviews                900544 non-null  float64       \n",
      " 4   timeOnSite               900544 non-null  float64       \n",
      " 5   totalTransactionRevenue  900544 non-null  float64       \n",
      " 6   transactions             900544 non-null  int32         \n",
      " 7   source                   900543 non-null  object        \n",
      " 8   medium                   900543 non-null  object        \n",
      " 9   campaign                 900543 non-null  object        \n",
      " 10  deviceCategory           900543 non-null  object        \n",
      " 11  operatingSystem          900543 non-null  object        \n",
      " 12  city                     900543 non-null  object        \n",
      " 13  ChannelGrouping          900543 non-null  object        \n",
      " 14  year                     900544 non-null  int64         \n",
      " 15  month                    900544 non-null  int64         \n",
      " 16  day                      900544 non-null  int64         \n",
      " 17  hour                     900544 non-null  int64         \n",
      " 18  minute                   900544 non-null  int64         \n",
      "dtypes: datetime64[ns](1), float64(4), int32(1), int64(6), object(7)\n",
      "memory usage: 127.1+ MB\n"
     ]
    }
   ],
   "source": [
    "data.info()"
   ]
  },
  {
   "cell_type": "code",
   "execution_count": 24,
   "metadata": {},
   "outputs": [],
   "source": [
    "#To convert categorical variables to integer using label encoder\n",
    "\n",
    "labEnc = LabelEncoder()\n",
    "\n",
    "cols = [\"ChannelGrouping\", \"city\", \"operatingSystem\", \n",
    "        \"campaign\", \"medium\", \"source\"]\n",
    "\n",
    "data[cols] = data[cols].astype(str)\n",
    "\n",
    "col_lessLabels = [\"deviceCategory\"]\n",
    "\n",
    "for col in cols:\n",
    "    data[col] = labEnc.fit_transform(data[col])\n",
    "    \n",
    "data = pd.get_dummies(data, columns = col_lessLabels)"
   ]
  },
  {
   "cell_type": "markdown",
   "metadata": {},
   "source": []
  },
  {
   "cell_type": "code",
   "execution_count": 28,
   "metadata": {},
   "outputs": [],
   "source": [
    "# Based on the data as we cleaned we split the data into input and output data \n",
    "# here we want transation output so make these in y varible related variables are in x\n",
    "\n",
    "features = ['VisitNumber', 'bounces', 'pageviews', 'timeOnSite', 'source',\n",
    "            'medium', 'campaign', 'operatingSystem', 'city',\n",
    "            'ChannelGrouping', 'month', 'day', 'hour', 'deviceCategory_desktop', 'deviceCategory_mobile',\n",
    "            'deviceCategory_tablet']\n",
    "\n",
    "# Features\n",
    "X = data[features] \n",
    "\n",
    "# Target variable\n",
    "y = data.transactions"
   ]
  },
  {
   "cell_type": "code",
   "execution_count": 29,
   "metadata": {},
   "outputs": [
    {
     "data": {
      "text/plain": [
       "array([0, 1])"
      ]
     },
     "execution_count": 29,
     "metadata": {},
     "output_type": "execute_result"
    }
   ],
   "source": [
    "y.unique()"
   ]
  },
  {
   "cell_type": "code",
   "execution_count": 30,
   "metadata": {},
   "outputs": [],
   "source": [
    "# Split the data into training set and testing set in 80:20 ratio\n",
    "X_train, X_test, y_train, y_test = train_test_split(X, y, test_size = 0.2)"
   ]
  },
  {
   "cell_type": "code",
   "execution_count": 31,
   "metadata": {},
   "outputs": [
    {
     "name": "stdout",
     "output_type": "stream",
     "text": [
      "Wall time: 2.15 s\n"
     ]
    }
   ],
   "source": [
    "%%time\n",
    "\n",
    "# Decision Tree classifer object\n",
    "Dclf = DecisionTreeClassifier()\n",
    "\n",
    "# Training Decision Tree Classifer\n",
    "Dclf = Dclf.fit(X_train,y_train)"
   ]
  },
  {
   "cell_type": "code",
   "execution_count": 32,
   "metadata": {},
   "outputs": [
    {
     "name": "stdout",
     "output_type": "stream",
     "text": [
      "Wall time: 31.9 ms\n"
     ]
    }
   ],
   "source": [
    "%%time\n",
    "\n",
    "#Predict for test dataset\n",
    "y_pred = Dclf.predict(X_test)"
   ]
  },
  {
   "cell_type": "code",
   "execution_count": 33,
   "metadata": {},
   "outputs": [
    {
     "name": "stdout",
     "output_type": "stream",
     "text": [
      "Accuracy is: 0.981205825361309\n"
     ]
    }
   ],
   "source": [
    "# checking the accuracy of the model\n",
    "\n",
    "print(\"Accuracy is:\", metrics.accuracy_score(y_test, y_pred))"
   ]
  },
  {
   "cell_type": "markdown",
   "metadata": {},
   "source": [
    "###### Accuracy of the model 0.981205825361309"
   ]
  },
  {
   "cell_type": "code",
   "execution_count": 42,
   "metadata": {},
   "outputs": [
    {
     "data": {
      "text/plain": [
       "array([[175959,   1828],\n",
       "       [  1557,    765]], dtype=int64)"
      ]
     },
     "execution_count": 42,
     "metadata": {},
     "output_type": "execute_result"
    }
   ],
   "source": [
    "# generating confusion matrix\n",
    "confusion_matrix(y_test, y_pred)"
   ]
  },
  {
   "cell_type": "code",
   "execution_count": 43,
   "metadata": {},
   "outputs": [
    {
     "name": "stdout",
     "output_type": "stream",
     "text": [
      "Recall =  0.9897180333770186\n"
     ]
    }
   ],
   "source": [
    "print('Recall = ', (175959 / (175959 + 1828)))"
   ]
  },
  {
   "cell_type": "markdown",
   "metadata": {},
   "source": [
    "###### Recall  of the model 0.9897180333770186"
   ]
  },
  {
   "cell_type": "code",
   "execution_count": 56,
   "metadata": {},
   "outputs": [
    {
     "name": "stdout",
     "output_type": "stream",
     "text": [
      "Precision =  0.9912289596430744\n"
     ]
    }
   ],
   "source": [
    "print('Precision = ', (175959 / (175959 + 1557)))"
   ]
  },
  {
   "cell_type": "markdown",
   "metadata": {},
   "source": [
    "###### Precision  of the model 0.9912289596430744"
   ]
  },
  {
   "cell_type": "markdown",
   "metadata": {},
   "source": [
    "### CONCLUSION"
   ]
  },
  {
   "cell_type": "markdown",
   "metadata": {},
   "source": [
    "\n",
    "\n",
    "##### PREDICTION OF THE MODEL\n",
    "\n",
    "True Positive = 175959 observations\n",
    "\n",
    "True Negative = 765 observations\n",
    "\n",
    "False Positives = 1557 observations\n",
    "\n",
    "False Negatives = 1828 observations\n",
    "\n",
    "Recall = HIGH, indicating the classes are correctly identified\n",
    "\n",
    "Precision = HIGH, indicating the positive class is correctly identified\n"
   ]
  },
  {
   "cell_type": "markdown",
   "metadata": {},
   "source": [
    "Now, after training, if we test the model on the test set (which has mostly visitors of the website more than 98 percent chance that that customer will transact),\n",
    "<br>\n",
    "even if the model predicts that all the 900545 data points have any customer will transact , the accuracy still gets up to a whopping 98%. This can be \n",
    "<br>\n",
    "misleading especially in a field where the risk of False Negatives should be negligible \n",
    "So we considere the presion and recall value also."
   ]
  },
  {
   "cell_type": "markdown",
   "metadata": {},
   "source": [
    "In the model precision higher than recall, higher precision because now the classifier is more confident that the customer has to transact. Lower recall because now that the classifier’s threshold is set so high, there will be fewer customer classified as transact.\n",
    "<br>\n",
    "99 percentage of your results which are relevant,\n",
    "<br>\n",
    "98.97 percentage of total relevant results correctly classified."
   ]
  },
  {
   "cell_type": "code",
   "execution_count": null,
   "metadata": {},
   "outputs": [],
   "source": []
  }
 ],
 "metadata": {
  "kernelspec": {
   "display_name": "Python 3",
   "language": "python",
   "name": "python3"
  },
  "language_info": {
   "codemirror_mode": {
    "name": "ipython",
    "version": 3
   },
   "file_extension": ".py",
   "mimetype": "text/x-python",
   "name": "python",
   "nbconvert_exporter": "python",
   "pygments_lexer": "ipython3",
   "version": "3.7.6"
  }
 },
 "nbformat": 4,
 "nbformat_minor": 4
}
